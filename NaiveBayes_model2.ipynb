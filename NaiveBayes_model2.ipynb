{
 "cells": [
  {
   "cell_type": "code",
   "execution_count": 35,
   "metadata": {},
   "outputs": [
    {
     "data": {
      "text/html": [
       "<div>\n",
       "<style scoped>\n",
       "    .dataframe tbody tr th:only-of-type {\n",
       "        vertical-align: middle;\n",
       "    }\n",
       "\n",
       "    .dataframe tbody tr th {\n",
       "        vertical-align: top;\n",
       "    }\n",
       "\n",
       "    .dataframe thead th {\n",
       "        text-align: right;\n",
       "    }\n",
       "</style>\n",
       "<table border=\"1\" class=\"dataframe\">\n",
       "  <thead>\n",
       "    <tr style=\"text-align: right;\">\n",
       "      <th></th>\n",
       "      <th>meal_name</th>\n",
       "      <th>ingredients</th>\n",
       "      <th>instructions</th>\n",
       "    </tr>\n",
       "  </thead>\n",
       "  <tbody>\n",
       "    <tr>\n",
       "      <th>0</th>\n",
       "      <td>Egg Casserole</td>\n",
       "      <td>6 oz bacon diced (about 5 slices)\\n1 cup onion...</td>\n",
       "      <td>Preheat oven to 350 degrees F.\\nGrease a 9x13”...</td>\n",
       "    </tr>\n",
       "    <tr>\n",
       "      <th>1</th>\n",
       "      <td>No-Bake Chocolate Peanut Butter Cookies</td>\n",
       "      <td>½ cup creamy peanut butter\\n¼ cup honey (or ma...</td>\n",
       "      <td>Line a cookie sheet with waxed paper, set asid...</td>\n",
       "    </tr>\n",
       "    <tr>\n",
       "      <th>2</th>\n",
       "      <td>Banana Oatmeal Cookies</td>\n",
       "      <td>3 bananas overripe (about 1 ¼ cups mashed bana...</td>\n",
       "      <td>Preheat oven to 350 degrees F. Line two baking...</td>\n",
       "    </tr>\n",
       "    <tr>\n",
       "      <th>3</th>\n",
       "      <td>Chocolate Date Energy Balls</td>\n",
       "      <td>2 cups pitted dates\\n½ cup raw pecans\\n½ cup r...</td>\n",
       "      <td>Line a baking pan with wax paper, set aside. (...</td>\n",
       "    </tr>\n",
       "    <tr>\n",
       "      <th>4</th>\n",
       "      <td>Pistachio Chicken</td>\n",
       "      <td>2 pounds chicken breasts cut into strips (or c...</td>\n",
       "      <td>Preheat oven to 425 degrees F.\\nGrease two lar...</td>\n",
       "    </tr>\n",
       "  </tbody>\n",
       "</table>\n",
       "</div>"
      ],
      "text/plain": [
       "                                 meal_name  \\\n",
       "0                            Egg Casserole   \n",
       "1  No-Bake Chocolate Peanut Butter Cookies   \n",
       "2                   Banana Oatmeal Cookies   \n",
       "3              Chocolate Date Energy Balls   \n",
       "4                        Pistachio Chicken   \n",
       "\n",
       "                                         ingredients  \\\n",
       "0  6 oz bacon diced (about 5 slices)\\n1 cup onion...   \n",
       "1  ½ cup creamy peanut butter\\n¼ cup honey (or ma...   \n",
       "2  3 bananas overripe (about 1 ¼ cups mashed bana...   \n",
       "3  2 cups pitted dates\\n½ cup raw pecans\\n½ cup r...   \n",
       "4  2 pounds chicken breasts cut into strips (or c...   \n",
       "\n",
       "                                        instructions  \n",
       "0  Preheat oven to 350 degrees F.\\nGrease a 9x13”...  \n",
       "1  Line a cookie sheet with waxed paper, set asid...  \n",
       "2  Preheat oven to 350 degrees F. Line two baking...  \n",
       "3  Line a baking pan with wax paper, set aside. (...  \n",
       "4  Preheat oven to 425 degrees F.\\nGrease two lar...  "
      ]
     },
     "execution_count": 35,
     "metadata": {},
     "output_type": "execute_result"
    }
   ],
   "source": [
    "import pandas as pd\n",
    "\n",
    "def parse_recipes(file_path, label):\n",
    "    recipes = []\n",
    "    with open(file_path, 'r') as file:\n",
    "        content = file.read()\n",
    "        raw_recipes = content.strip().split('\\n\\n')\n",
    "        \n",
    "        for raw_recipe in raw_recipes:\n",
    "            title, ingredients, instructions = None, None, None\n",
    "            \n",
    "            if 'Recipe:' in raw_recipe:\n",
    "                sections = raw_recipe.split('Ingredients:')\n",
    "                if len(sections) > 1:\n",
    "                    title = sections[0].replace('Recipe:', '').strip()\n",
    "                    ingredients_instructions = sections[1].split('Instructions:')\n",
    "                    if len(ingredients_instructions) > 1:\n",
    "                        ingredients = ingredients_instructions[0].strip()\n",
    "                        instructions = ingredients_instructions[1].strip()\n",
    "            \n",
    "            if title and ingredients and instructions:\n",
    "                recipes.append({\n",
    "                    'meal_name': title,\n",
    "                    'ingredients': ingredients,\n",
    "                    'instructions': instructions,\n",
    "                })\n",
    "    \n",
    "    return recipes\n",
    "\n",
    "\n",
    "fitness_recipes = parse_recipes('recipes_data/fitness_recipes.txt', 'fitness')\n",
    "\n",
    "df = pd.DataFrame(fitness_recipes)\n",
    "\n",
    "\n",
    "df.to_csv('recipes.csv', index=False)\n",
    "\n",
    "df.head()"
   ]
  },
  {
   "cell_type": "code",
   "execution_count": 36,
   "metadata": {},
   "outputs": [
    {
     "name": "stdout",
     "output_type": "stream",
     "text": [
      "Data prepared for modeling:\n"
     ]
    },
    {
     "data": {
      "text/html": [
       "<div>\n",
       "<style scoped>\n",
       "    .dataframe tbody tr th:only-of-type {\n",
       "        vertical-align: middle;\n",
       "    }\n",
       "\n",
       "    .dataframe tbody tr th {\n",
       "        vertical-align: top;\n",
       "    }\n",
       "\n",
       "    .dataframe thead th {\n",
       "        text-align: right;\n",
       "    }\n",
       "</style>\n",
       "<table border=\"1\" class=\"dataframe\">\n",
       "  <thead>\n",
       "    <tr style=\"text-align: right;\">\n",
       "      <th></th>\n",
       "      <th>title</th>\n",
       "      <th>ingredients</th>\n",
       "      <th>instructions</th>\n",
       "      <th>label</th>\n",
       "    </tr>\n",
       "  </thead>\n",
       "  <tbody>\n",
       "    <tr>\n",
       "      <th>0</th>\n",
       "      <td>Best Meatloaf</td>\n",
       "      <td>2 pounds ground beef\\n¼ cup bread crumbs (1 sl...</td>\n",
       "      <td>Preheat oven to 375°F (175°C).\\nCombine ketchu...</td>\n",
       "      <td>regular</td>\n",
       "    </tr>\n",
       "    <tr>\n",
       "      <th>1</th>\n",
       "      <td>Chicken Lo Mein</td>\n",
       "      <td>1 pound chicken breasts\\n8 ounces dry lo mein ...</td>\n",
       "      <td>In a small bowl, whisk together sauce ingredie...</td>\n",
       "      <td>regular</td>\n",
       "    </tr>\n",
       "    <tr>\n",
       "      <th>2</th>\n",
       "      <td>Easy Homemade Mac and Cheese</td>\n",
       "      <td>8 ounces elbow macaroni uncooked\\nCheese Sauce...</td>\n",
       "      <td>Cook elbow macaroni according to package instr...</td>\n",
       "      <td>regular</td>\n",
       "    </tr>\n",
       "    <tr>\n",
       "      <th>3</th>\n",
       "      <td>Chocolate Cake</td>\n",
       "      <td>1 ¼ cups all-purpose flour\\n1 ¼ cups granulate...</td>\n",
       "      <td>Preheat oven to 350 degrees F.\\nLine two 6” ro...</td>\n",
       "      <td>regular</td>\n",
       "    </tr>\n",
       "    <tr>\n",
       "      <th>4</th>\n",
       "      <td>Crock Pot Teriyaki Chicken</td>\n",
       "      <td>2 pounds chicken breasts\\n½ cup honey\\n¾ cup s...</td>\n",
       "      <td>Grease the container of a large slow cooker.\\n...</td>\n",
       "      <td>regular</td>\n",
       "    </tr>\n",
       "  </tbody>\n",
       "</table>\n",
       "</div>"
      ],
      "text/plain": [
       "                          title  \\\n",
       "0                 Best Meatloaf   \n",
       "1               Chicken Lo Mein   \n",
       "2  Easy Homemade Mac and Cheese   \n",
       "3                Chocolate Cake   \n",
       "4    Crock Pot Teriyaki Chicken   \n",
       "\n",
       "                                         ingredients  \\\n",
       "0  2 pounds ground beef\\n¼ cup bread crumbs (1 sl...   \n",
       "1  1 pound chicken breasts\\n8 ounces dry lo mein ...   \n",
       "2  8 ounces elbow macaroni uncooked\\nCheese Sauce...   \n",
       "3  1 ¼ cups all-purpose flour\\n1 ¼ cups granulate...   \n",
       "4  2 pounds chicken breasts\\n½ cup honey\\n¾ cup s...   \n",
       "\n",
       "                                        instructions    label  \n",
       "0  Preheat oven to 375°F (175°C).\\nCombine ketchu...  regular  \n",
       "1  In a small bowl, whisk together sauce ingredie...  regular  \n",
       "2  Cook elbow macaroni according to package instr...  regular  \n",
       "3  Preheat oven to 350 degrees F.\\nLine two 6” ro...  regular  \n",
       "4  Grease the container of a large slow cooker.\\n...  regular  "
      ]
     },
     "execution_count": 36,
     "metadata": {},
     "output_type": "execute_result"
    }
   ],
   "source": [
    "import pandas as pd\n",
    "\n",
    "def parse_recipes(file_path, label):\n",
    "    recipes = []\n",
    "    with open(file_path, 'r') as file:\n",
    "        content = file.read()\n",
    "        raw_recipes = content.strip().split('\\n\\n')\n",
    "        \n",
    "        for raw_recipe in raw_recipes:\n",
    "            title, ingredients, instructions = None, None, None\n",
    "            \n",
    "            if 'Recipe:' in raw_recipe:\n",
    "                sections = raw_recipe.split('Ingredients:')\n",
    "                if len(sections) > 1:\n",
    "                    title = sections[0].replace('Recipe:', '').strip()\n",
    "                    ingredients_instructions = sections[1].split('Instructions:')\n",
    "                    if len(ingredients_instructions) > 1:\n",
    "                        ingredients = ingredients_instructions[0].strip()\n",
    "                        instructions = ingredients_instructions[1].strip()\n",
    "            \n",
    "            if title and ingredients and instructions:\n",
    "                recipes.append({\n",
    "                    'title': title,\n",
    "                    'ingredients': ingredients,\n",
    "                    'instructions': instructions,\n",
    "                    'label': label\n",
    "                })\n",
    "    \n",
    "    return recipes\n",
    "\n",
    "\n",
    "regular_recipes = parse_recipes('recipes_data/regular_recipes.txt', 'regular')\n",
    "fitness_recipes = parse_recipes('recipes_data/fitness_recipes.txt', 'fitness')\n",
    "\n",
    "\n",
    "all_recipes = regular_recipes + fitness_recipes\n",
    "df = pd.DataFrame(all_recipes)\n",
    "\n",
    "\n",
    "df.to_csv('labeled_recipes.csv', index=False)\n",
    "\n",
    "print(\"Data prepared for modeling:\")\n",
    "df.head()"
   ]
  },
  {
   "cell_type": "code",
   "execution_count": 37,
   "metadata": {},
   "outputs": [],
   "source": [
    "import re\n",
    "\n",
    "def clean_text(text):\n",
    "    text = text.replace('\\n', ' ')\n",
    "    text = re.sub(r'[^\\w\\s]', '', text)\n",
    "    text = text.lower()\n",
    "    return text\n",
    "\n",
    "\n",
    "df['ingredients'] = df['ingredients'].apply(clean_text)\n",
    "df['instructions'] = df['instructions'].apply(clean_text)"
   ]
  },
  {
   "cell_type": "code",
   "execution_count": 38,
   "metadata": {},
   "outputs": [
    {
     "name": "stdout",
     "output_type": "stream",
     "text": [
      "Classification Report:\n",
      "               precision    recall  f1-score   support\n",
      "\n",
      "           0       0.78      0.93      0.85        15\n",
      "           1       0.80      0.50      0.62         8\n",
      "\n",
      "    accuracy                           0.78        23\n",
      "   macro avg       0.79      0.72      0.73        23\n",
      "weighted avg       0.79      0.78      0.77        23\n",
      "\n",
      "Accuracy Score: 0.782608695652174\n"
     ]
    }
   ],
   "source": [
    "import re\n",
    "from sklearn.feature_extraction.text import CountVectorizer\n",
    "from sklearn.model_selection import train_test_split\n",
    "from sklearn.naive_bayes import MultinomialNB\n",
    "from sklearn.pipeline import make_pipeline\n",
    "from sklearn.preprocessing import StandardScaler\n",
    "from sklearn.compose import ColumnTransformer\n",
    "from sklearn.metrics import classification_report, accuracy_score\n",
    "from sklearn.feature_extraction.text import TfidfVectorizer\n",
    "\n",
    "\n",
    "df = pd.read_csv('labeled_recipes.csv')\n",
    "def extract_quantity(ingredient):\n",
    "    quantities = re.findall(r'\\d+\\/\\d+|\\d+\\.\\d+|\\d+', ingredient)\n",
    "    return sum([eval(q) for q in quantities]) if quantities else 0\n",
    "\n",
    "df['ingredient_quantity'] = df['ingredients'].apply(lambda x: sum(extract_quantity(ing) for ing in x.split('\\n')))\n",
    "\n",
    "def clean_text(text):\n",
    "    text = text.replace('\\n', ' ')\n",
    "    text = re.sub(r'[^\\w\\s]', '', text)\n",
    "    text = text.lower()\n",
    "    return text\n",
    "\n",
    "\n",
    "df['ingredients'] = df['ingredients'].apply(clean_text)\n",
    "df['instructions'] = df['instructions'].apply(clean_text)\n",
    "\n",
    "# We tested with max_features set to 50, but we obtained the same results.\n",
    "vectorizer_ingredients = TfidfVectorizer(max_features=100) \n",
    "vectorizer_instructions = TfidfVectorizer(max_features=100)\n",
    "\n",
    "X_ingredients = vectorizer_ingredients.fit_transform(df['ingredients']).toarray()\n",
    "X_instructions = vectorizer_instructions.fit_transform(df['instructions']).toarray()\n",
    "\n",
    "\n",
    "X = pd.concat([pd.DataFrame(X_ingredients), pd.DataFrame(X_instructions), df[['ingredient_quantity']]], axis=1)\n",
    "y = df['label'].apply(lambda x: 1 if x == 'fitness' else 0)\n",
    "\n",
    "X.columns = X.columns.astype(str)\n",
    "X_train, X_test, y_train, y_test = train_test_split(X, y, test_size=0.2, random_state=42)\n",
    "\n",
    "model = MultinomialNB()\n",
    "model.fit(X_train, y_train)\n",
    "\n",
    "y_pred = model.predict(X_test)\n",
    "\n",
    "print(\"Classification Report:\\n\", classification_report(y_test, y_pred))\n",
    "print(\"Accuracy Score:\", accuracy_score(y_test, y_pred))"
   ]
  },
  {
   "cell_type": "code",
   "execution_count": 39,
   "metadata": {},
   "outputs": [
    {
     "data": {
      "image/png": "[encoded data removed]",
      "text/plain": [
       "<Figure size 640x480 with 1 Axes>"
      ]
     },
     "metadata": {
      "needs_background": "dark"
     },
     "output_type": "display_data"
    }
   ],
   "source": [
    "from sklearn.metrics import ConfusionMatrixDisplay\n",
    "import matplotlib.pyplot as plt\n",
    "import numpy as np\n",
    "from sklearn.metrics import confusion_matrix\n",
    "\n",
    "cm = confusion_matrix(y_test, y_pred)\n",
    "\n",
    "fig, ax = plt.subplots()\n",
    "disp = ConfusionMatrixDisplay(confusion_matrix=cm)\n",
    "disp.plot(cmap='spring', ax=ax, colorbar=False)\n",
    "\n",
    "fig.patch.set_alpha(0)\n",
    "ax.patch.set_alpha(0)\n",
    "\n",
    "for text in ax.texts:\n",
    "    text.set_color(\"black\")\n",
    "\n",
    "plt.title('Confusion Matrix', color='white')\n",
    "\n",
    "ax.xaxis.label.set_color(\"white\") \n",
    "ax.yaxis.label.set_color(\"white\") \n",
    "ax.tick_params(colors=\"white\") \n",
    "\n",
    "plt.show()"
   ]
  },
  {
   "cell_type": "code",
   "execution_count": 40,
   "metadata": {},
   "outputs": [
    {
     "name": "stdout",
     "output_type": "stream",
     "text": [
      "Training Accuracy: 0.5842696629213483\n",
      "Validation Accuracy: 0.782608695652174\n"
     ]
    }
   ],
   "source": [
    "train_acc = model.score(X_train, y_train)\n",
    "val_acc = model.score(X_test, y_test)\n",
    "print(\"Training Accuracy:\", train_acc)\n",
    "print(\"Validation Accuracy:\", val_acc)"
   ]
  },
  {
   "cell_type": "code",
   "execution_count": 41,
   "metadata": {},
   "outputs": [
    {
     "name": "stdout",
     "output_type": "stream",
     "text": [
      "❌ This is not a fitness recipe!\n",
      "This meal might not be the best option for your fitness goals, but don’t worry! Here are some friendly tips to make it a bit healthier:\n",
      "How about trying a healthier option instead of frying, like baking or grilling? It’s a great way to enjoy your meals while making them even better for you!\n"
     ]
    }
   ],
   "source": [
    "import re\n",
    "from nltk.stem import PorterStemmer\n",
    "\n",
    "\n",
    "stemmer = PorterStemmer()\n",
    "fitness_substitutions = {\n",
    "    \"sugar\": \"stevia or honey\",\n",
    "    \"butter\": \"coconut oil\",\n",
    "    \"cream\": \"greek yogurt\",\n",
    "    \"frying\": \"baking or grilling\"\n",
    "}\n",
    "\n",
    "def generate_fitness_suggestions(text, fitness_substitutions):\n",
    "    words = re.findall(r'\\b\\w+\\b', text.lower())\n",
    "    suggestions = []\n",
    "    for word in words:\n",
    "        stem = stemmer.stem(word)\n",
    "        if stem == \"fri\":\n",
    "            suggestion = f\"How about trying a healthier option instead of frying, like {fitness_substitutions['frying']}? It’s a great way to enjoy your meals while making them even better for you!\"\n",
    "            suggestions.append(suggestion)\n",
    "        elif word in fitness_substitutions:\n",
    "            suggestion = f\"Try swapping {word} for a tasty and healthier option like {fitness_substitutions[word]}. You'll love the change!\"\n",
    "            suggestions.append(suggestion)\n",
    "    \n",
    "    return suggestions\n",
    "\n",
    "\n",
    "def update_feedback(recipe_text):\n",
    "    if recipe_text:\n",
    "        recipe_text_cleaned = clean_text(recipe_text)\n",
    "        recipe_text_transformed_ingredients = vectorizer_ingredients.transform([recipe_text_cleaned]).toarray()\n",
    "        recipe_text_transformed_instructions = vectorizer_instructions.transform([recipe_text_cleaned]).toarray()\n",
    "        ingredient_quantity = sum([eval(q) for q in re.findall(r'\\d+\\/\\d+|\\d+\\.\\d+|\\d+', recipe_text)]) if recipe_text else 0\n",
    "\n",
    "        recipe_features = pd.concat(\n",
    "            [\n",
    "                pd.DataFrame(recipe_text_transformed_ingredients),\n",
    "                pd.DataFrame(recipe_text_transformed_instructions),\n",
    "                pd.DataFrame([ingredient_quantity], columns=[\"ingredient_quantity\"])\n",
    "            ],\n",
    "            axis=1\n",
    "        )\n",
    "        recipe_features.columns = recipe_features.columns.astype(str)\n",
    "\n",
    "        prediction = model.predict(recipe_features)\n",
    "\n",
    "        if prediction[0] == 1:\n",
    "            feedback = [\n",
    "                \"✅ This is a fitness recipe! This meal is perfect for staying fit and healthy!\"\n",
    "            ]\n",
    "        else:\n",
    "            feedback = [\n",
    "                \"❌ This is not a fitness recipe!\"\n",
    "            ]\n",
    "            suggestions = generate_fitness_suggestions(recipe_text, fitness_substitutions)\n",
    "            if suggestions:\n",
    "                feedback.append(\"This meal might not be the best option for your fitness goals, but don’t worry! Here are some friendly tips to make it a bit healthier:\")\n",
    "                feedback.extend(suggestions)\n",
    "            else:\n",
    "                feedback.append(\"This meal may not be the best choice for your fitness goals, but that's totally fine! Consider it a fun cheat meal! If you’re looking for more fitness-friendly food ideas, I highly recommend checking out the 'Fuel Your Day with Good Energy' cookbook by Tea. It’s filled with delicious options that you’ll love! Enjoy your meal!\")\n",
    "\n",
    "        for line in feedback:\n",
    "            print(line)\n",
    "\n",
    "recipe_text_example1 = \"In a large skillet, heat oil over medium heat. Season the chicken pieces with salt, pepper, and paprika. Dredge them in flour, shaking off any excess. Fry the chicken in batches until golden brown and cooked through, about 5-7 minutes per side. Serve with mashed potatoes and steamed green beans.\"\n",
    "update_feedback(recipe_text_example1)"
   ]
  },
  {
   "cell_type": "code",
   "execution_count": 42,
   "metadata": {},
   "outputs": [
    {
     "name": "stdout",
     "output_type": "stream",
     "text": [
      "✅ This is a fitness recipe! This meal is perfect for staying fit and healthy!\n"
     ]
    }
   ],
   "source": [
    "recipe_text_example2 = \"For a hearty spaghetti bolognese, start by heating olive oil in a large pan over medium heat. Add 1 diced onion, 2 minced garlic cloves, and 1 grated carrot, cooking until softened. Add 500g ground beef, cooking until browned. Stir in 1 can of crushed tomatoes, 2 tablespoons tomato paste, 1 teaspoon dried oregano, and 1 teaspoon dried basil. Simmer for 20 minutes, seasoning with salt and pepper to taste. Serve over cooked spaghetti, garnished with grated Parmesan and fresh parsley.\"\n",
    "update_feedback(recipe_text_example2)"
   ]
  },
  {
   "cell_type": "code",
   "execution_count": 43,
   "metadata": {},
   "outputs": [
    {
     "name": "stdout",
     "output_type": "stream",
     "text": [
      "❌ This is not a fitness recipe!\n",
      "This meal may not be the best choice for your fitness goals, but that's totally fine! Consider it a fun cheat meal! If you’re looking for more fitness-friendly food ideas, I highly recommend checking out the 'Fuel Your Day with Good Energy' cookbook by Tea. It’s filled with delicious options that you’ll love! Enjoy your meal!\n"
     ]
    }
   ],
   "source": [
    "recipe_text_example3 = \"For a grilled salmon and quinoa bowl, marinate 2 salmon fillets in a mixture of 2 tablespoons olive oil, 1 tablespoon lemon juice, 1 minced garlic clove, and a pinch of salt and pepper. Grill the salmon over medium heat for 4-5 minutes per side. Cook 1 cup quinoa according to package instructions and let cool. Assemble the bowl with quinoa, a handful of baby spinach, ½ avocado sliced, cherry tomatoes, and cucumber slices. Top with grilled salmon and drizzle with a light lemon-tahini dressing.\"\n",
    "update_feedback(recipe_text_example3)"
   ]
  },
  {
   "cell_type": "code",
   "execution_count": 44,
   "metadata": {},
   "outputs": [
    {
     "name": "stdout",
     "output_type": "stream",
     "text": [
      "❌ This is not a fitness recipe!\n",
      "This meal might not be the best option for your fitness goals, but don’t worry! Here are some friendly tips to make it a bit healthier:\n",
      "Try swapping sugar for a tasty and healthier option like stevia or honey. You'll love the change!\n",
      "Try swapping butter for a tasty and healthier option like coconut oil. You'll love the change!\n"
     ]
    }
   ],
   "source": [
    "recipe_text_example4 = \"1 ½ cups all-purpose flour, 1 teaspoon baking powder, ½ teaspoon baking soda, ¼ teaspoon salt, ¾ cup granulated sugar, ½ cup unsalted butter, 2 large eggs, 1 teaspoon vanilla extract, ½ cup whole milk, ½ cup semi-sweet chocolate chips.\"\n",
    "update_feedback(recipe_text_example4)"
   ]
  },
  {
   "cell_type": "code",
   "execution_count": 47,
   "metadata": {},
   "outputs": [
    {
     "name": "stdout",
     "output_type": "stream",
     "text": [
      "❌ This is not a fitness recipe!\n",
      "This meal might not be the best option for your fitness goals, but don’t worry! Here are some friendly tips to make it a bit healthier:\n",
      "How about trying a healthier option instead of frying, like baking or grilling? It’s a great way to enjoy your meals while making them even better for you!\n"
     ]
    }
   ],
   "source": [
    "dataset_recipe1='''vegetable oil for frying\n",
    "4 cups all-purpose flour\n",
    "6 tablespoons garlic salt\n",
    "3 tablespoons ground black pepper\n",
    "4 large eggs, beaten\n",
    "8 skinless, boneless chicken breast halves - cut into small chunks.'''\n",
    "\n",
    "update_feedback(dataset_recipe1)"
   ]
  },
  {
   "cell_type": "code",
   "execution_count": 48,
   "metadata": {},
   "outputs": [
    {
     "name": "stdout",
     "output_type": "stream",
     "text": [
      "❌ This is not a fitness recipe!\n",
      "This meal might not be the best option for your fitness goals, but don’t worry! Here are some friendly tips to make it a bit healthier:\n",
      "Try swapping butter for a tasty and healthier option like coconut oil. You'll love the change!\n",
      "Try swapping sugar for a tasty and healthier option like stevia or honey. You'll love the change!\n",
      "Try swapping sugar for a tasty and healthier option like stevia or honey. You'll love the change!\n"
     ]
    }
   ],
   "source": [
    "dataset_recipe2='''3-4 overripe bananas (1 ½ cups mashed)\n",
    "½ cup salted butter melted\n",
    "2 eggs beaten\n",
    "2 teaspoons pure vanilla extract\n",
    "¾ cup granulated sugar\n",
    "¼ cup light brown sugar\n",
    "1 ½ cups all-purpose flour\n",
    "1 teaspoon baking soda\n",
    "½ teaspoon baking powder\n",
    "½ teaspoon fine sea salt\n",
    "½ teaspoon cinnamon'''\n",
    "\n",
    "update_feedback(dataset_recipe2)"
   ]
  },
  {
   "cell_type": "code",
   "execution_count": 50,
   "metadata": {},
   "outputs": [
    {
     "name": "stdout",
     "output_type": "stream",
     "text": [
      "✅ This is a fitness recipe! This meal is perfect for staying fit and healthy!\n"
     ]
    }
   ],
   "source": [
    "dataset_recipe3='''4 cups water\n",
    "2 cups uncooked white rice\n",
    "3 tablespoons soy sauce\n",
    "2 tablespoons creamy peanut butter\n",
    "2 teaspoons white wine vinegar\n",
    "¼ teaspoon cayenne pepper\n",
    "3 tablespoons olive oil\n",
    "4 skinless, boneless chicken breast halves - cut into thin strips\n",
    "3 tablespoons chopped garlic\n",
    "1 ½ tablespoons chopped fresh ginger root\n",
    "2 ½ cups broccoli florets\n",
    "¾ cup chopped green onions\n",
    "⅓ cup unsalted dry-roasted peanuts\n",
    "Combine water and rice in a saucepan over medium-high heat; bring to a boil. Reduce heat to low, cover, and simmer until rice is tender and liquid is absorbed, about 20 minutes.\n",
    "Meanwhile, stir together soy sauce, peanut butter, vinegar, and cayenne pepper in a small bowl; set aside.\n",
    "Heat olive oil in a skillet or wok over high heat. Cook and stir chicken, garlic, and ginger in hot oil until chicken is lightly browned, about 5 minutes. Reduce heat to medium and add broccoli, green onions, peanuts, and soy sauce mixture. Cook, stirring frequently, until broccoli is tender and chicken is cooked through, about 5 minutes.\n",
    "Serve chicken-broccoli mixture over cooked rice.'''\n",
    "\n",
    "update_feedback(dataset_recipe3)"
   ]
  },
  {
   "cell_type": "code",
   "execution_count": 52,
   "metadata": {},
   "outputs": [
    {
     "name": "stdout",
     "output_type": "stream",
     "text": [
      "✅ This is a fitness recipe! This meal is perfect for staying fit and healthy!\n"
     ]
    }
   ],
   "source": [
    "dataset_recipe4='''40g Oats\n",
    "30g Vanilla Whey protein\n",
    "5g cacao powder\n",
    "50g banana\n",
    "15g Hershey Zero Sugar\n",
    "Chocolate Baking Chips'''\n",
    "\n",
    "update_feedback(dataset_recipe4)"
   ]
  }
 ],
 "metadata": {
  "kernelspec": {
   "display_name": "Python 3",
   "language": "python",
   "name": "python3"
  },
  "language_info": {
   "codemirror_mode": {
    "name": "ipython",
    "version": 3
   },
   "file_extension": ".py",
   "mimetype": "text/x-python",
   "name": "python",
   "nbconvert_exporter": "python",
   "pygments_lexer": "ipython3",
   "version": "3.10.7"
  }
 },
 "nbformat": 4,
 "nbformat_minor": 2
}
